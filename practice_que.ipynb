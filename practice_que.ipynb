{
 "cells": [
  {
   "cell_type": "code",
   "execution_count": 8,
   "metadata": {},
   "outputs": [
    {
     "name": "stdout",
     "output_type": "stream",
     "text": [
      "Highest score in the class :95\n",
      "the average score is :86.0\n",
      "students scoring above 80:['bob', 'david', 'emma']\n",
      "sorted students name ['alice', 'bob', 'charlie', 'david', 'emma']\n"
     ]
    }
   ],
   "source": [
    "'''\n",
    "Question 1: Analyzing Student Scores\n",
    "\n",
    "You are provided with a list of student scores in a class. Perform the following operations:\n",
    "\n",
    "    Find and display the highest score in the class.\n",
    "    Calculate and print the average score of the class.\n",
    "    Identify and display the names of students who scored above a certain threshold (e.g., 80).\n",
    "    Sort and display the student names in alphabetical order.\n",
    "    '''\n",
    "\n",
    "\n",
    "\n",
    "student_name=[\"alice\",\"bob\",\"charlie\",\"david\",\"emma\"]\n",
    "score=[75,92,80,88,95]\n",
    "\n",
    "# 1 Find and display the highest score in the class.\n",
    "\n",
    "highest_score=max(score)\n",
    "print(f\"Highest score in the class :{highest_score}\")\n",
    "\n",
    "# 2 Calculate and print the average score of the class.\n",
    "\n",
    "average_score= sum(score) / len(score)\n",
    "print(f\"the average score is :{average_score}\")\n",
    "\n",
    "# 3 Identify and display the names of students who scored above a certain threshold (e.g., 80).\n",
    "\n",
    "threshold=80\n",
    "above_threshold=[name for name, score in zip (student_name, score) if score > threshold]\n",
    "print(f\"students scoring above {threshold}:{above_threshold}\")\n",
    "\n",
    "# 4 Sort and display the student names in alphabetical order.\n",
    "\n",
    "sorted_name=sorted(student_name)\n",
    "print(f\"sorted students name {sorted_name}\")"
   ]
  },
  {
   "cell_type": "code",
   "execution_count": 15,
   "metadata": {},
   "outputs": [
    {
     "name": "stdout",
     "output_type": "stream",
     "text": [
      "Squares: [1, 4, 9, 16, 25, 36, 49, 64, 81, 100]\n",
      "Cubes: [1, 8, 27, 64, 125, 216, 343, 512, 729, 1000]\n"
     ]
    }
   ],
   "source": [
    "'''\n",
    "Question 2: Generate Squares and Cubes\n",
    "\n",
    "Write a program to generate two lists using list comprehension.\n",
    "The first list should contain the squares of numbers from 1 to 10, and the second\n",
    "list should contain the cubes of the same numbers.\n",
    "    '''\n",
    "\n",
    "\n",
    "squres=[x**2 for x in range(1,11)]\n",
    "cubes=[x**3 for x in range(1,11)]\n",
    "\n",
    "print(\"Squares:\", squres)\n",
    "print(\"Cubes:\", cubes)"
   ]
  },
  {
   "cell_type": "code",
   "execution_count": 22,
   "metadata": {},
   "outputs": [
    {
     "data": {
      "text/plain": [
       "[5, 6, 4, 3, 1]"
      ]
     },
     "execution_count": 22,
     "metadata": {},
     "output_type": "execute_result"
    }
   ],
   "source": [
    "'''\n",
    "Question 3: Filtering Positive Numbers\n",
    "\n",
    "Given a list of numbers, create a new list that contains only the positive numbers from the original list. \n",
    "Implement this using list comprehension.\n",
    "\n",
    "Solution\n",
    "            '''\n",
    "\n",
    "\n",
    "numbers=[ -7,-8,-9,5,6,4,-4,3,-2,1,-5]\n",
    "positive_numbers= [num for num in numbers if num > 0]\n",
    "\n",
    "positive_numbers\n",
    "                        \n",
    "\n",
    "\n",
    "\n",
    "\n",
    "\n",
    "\n",
    "\n"
   ]
  },
  {
   "cell_type": "code",
   "execution_count": 1,
   "metadata": {},
   "outputs": [
    {
     "name": "stdout",
     "output_type": "stream",
     "text": [
      "total salary: 185000\n",
      "employee with highest salary: (3, 'charlie', 75000)\n"
     ]
    },
    {
     "data": {
      "text/plain": [
       "''"
      ]
     },
     "execution_count": 1,
     "metadata": {},
     "output_type": "execute_result"
    }
   ],
   "source": [
    "'''\n",
    "Question 1: Employee Management System\n",
    "\n",
    "You are tasked with creating an Employee Management System using lists and tuples. \n",
    "Each employee is represented by a tuple containing (employee_id, name, salary). \n",
    "Implement functions to add a new employee, calculate the total salary, and find the employee with the highest salary\n",
    "\n",
    "'''\n",
    "\n",
    "\n",
    "# employee mangement system \n",
    "\n",
    "employees= []\n",
    "\n",
    "def add_employee(employee_id , name , salary):\n",
    "    employee=(employee_id , name , salary)\n",
    "    employees.append(employee)\n",
    "\n",
    "    \n",
    "def total_salary():\n",
    "    total=sum(employee[2] for employee in employees)\n",
    "    return total\n",
    "\n",
    "\n",
    "def highest_paying_salary():\n",
    "        if not employees:\n",
    "             return None \n",
    "        \n",
    "        return max(employees, key= lambda x : x [2])\n",
    "\n",
    "# example usage \n",
    "\n",
    "add_employee(1,\"alice\",50000)\n",
    "add_employee(2,\"bob\",60000)\n",
    "add_employee(3,\"charlie\",75000)\n",
    "\n",
    "print(\"total salary:\", total_salary())\n",
    "print(\"employee with highest salary:\", highest_paying_salary())\n",
    "\n",
    "\n",
    "\n",
    "\n",
    "\n",
    "\n",
    "\n",
    "\n",
    "\n",
    "\n",
    "\n",
    "\n",
    "\n",
    "\n"
   ]
  },
  {
   "cell_type": "code",
   "execution_count": 6,
   "metadata": {},
   "outputs": [
    {
     "name": "stdout",
     "output_type": "stream",
     "text": [
      "shopping cart:\n",
      "apple x 3\n",
      "orange x 1\n",
      "Total Price: None\n"
     ]
    }
   ],
   "source": [
    "'''\n",
    "Question 2: Shopping Cart with Discounts\n",
    "Create a shopping cart system where items and their prices are stored in a dictionary. \n",
    "Use a list to represent the items in the cart. Implement functions to add items to the cart, \n",
    "calculate the total price with discounts, and display the items in the cart.\n",
    "'''\n",
    "\n",
    "# Shopping Cart with Discounts\n",
    "\n",
    "item_prices = {\"apple\": 1.0, \"banana\": 0.5, \"orange\": 1.2}\n",
    "shopping_cart = []\n",
    "\n",
    "def add_to_cart(item,quantity):\n",
    "    if item in item_prices and quantity>0:\n",
    "        shopping_cart.append((item,quantity))\n",
    "\n",
    "def calculate_total_price():\n",
    "    total_price=sum(item_prices[item] * quantity for item , quantity in shopping_cart)\n",
    "\n",
    "    # apply 10 % percent discount if the total price of greater than 50\n",
    "\n",
    "    if total_price > 50 :\n",
    "        total_price *= 0.9\n",
    "        return total_price\n",
    "    \n",
    "def display_cart():\n",
    "        print(\"shopping cart:\")\n",
    "        for item , quantity in shopping_cart:\n",
    "            print(f\"{item} x {quantity}\")\n",
    "\n",
    "\n",
    "    # example usage \n",
    "\n",
    "add_to_cart(\"apple\", 3)\n",
    "add_to_cart(\"bannana\",2)\n",
    "add_to_cart(\"orange\",1)\n",
    "\n",
    "\n",
    "\n",
    "display_cart()\n",
    "    \n",
    "print(\"Total Price:\", calculate_total_price())\n",
    "\n",
    "\n",
    "\n",
    "\n"
   ]
  },
  {
   "cell_type": "code",
   "execution_count": null,
   "metadata": {},
   "outputs": [],
   "source": []
  }
 ],
 "metadata": {
  "kernelspec": {
   "display_name": "Python 3",
   "language": "python",
   "name": "python3"
  },
  "language_info": {
   "codemirror_mode": {
    "name": "ipython",
    "version": 3
   },
   "file_extension": ".py",
   "mimetype": "text/x-python",
   "name": "python",
   "nbconvert_exporter": "python",
   "pygments_lexer": "ipython3",
   "version": "3.10.10"
  }
 },
 "nbformat": 4,
 "nbformat_minor": 2
}
