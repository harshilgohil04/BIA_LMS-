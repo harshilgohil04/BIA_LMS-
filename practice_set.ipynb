{
 "cells": [
  {
   "cell_type": "code",
   "execution_count": 3,
   "metadata": {},
   "outputs": [
    {
     "name": "stdout",
     "output_type": "stream",
     "text": [
      "1. Updated Set: {'Alice', 'David', 'Bob', 'Eve', 'Charlie'}\n",
      "2. Copied Set: {'Alice', 'David', 'Bob', 'Eve', 'Charlie'}\n",
      "3. Set after adding 'Frank': {'Alice', 'David', 'Bob', 'Frank', 'Eve', 'Charlie'}\n",
      "4. Set after discarding 'Eve': {'Alice', 'David', 'Bob', 'Frank', 'Charlie'}\n",
      "5. Set after discarding 'Grace': {'Alice', 'David', 'Bob', 'Frank', 'Charlie'}\n",
      "6. Set after clearing: set()\n"
     ]
    }
   ],
   "source": [
    "'''\n",
    "Question 1: You have a set representing students enrolled in a Computer Science course. \n",
    "pdate the set with students from the Mathematics course. Create a copy of the set. \n",
    "Add a new student who just joined the course. Remove a student who dropped the course (handle the case where the student is not in \n",
    "the set). Discard a student who is not actively participating (no error if the student is not present). Clear all students from\n",
    " the set.\n",
    "'''\n",
    "# Solution:\n",
    "\n",
    "computer_science_students = {'Alice', 'Bob', 'Charlie'}\n",
    "\n",
    "# 1. Update the set with students from the Mathematics course.\n",
    "math_students = {'Charlie', 'David', 'Eve'}\n",
    "computer_science_students.update(math_students)\n",
    "print(\"1. Updated Set:\", computer_science_students)\n",
    "\n",
    "# 2. Create a copy of the set.\n",
    "copied_students = computer_science_students.copy()\n",
    "print(\"2. Copied Set:\", copied_students)\n",
    "\n",
    "# 3. Add a new student who just joined the course.\n",
    "computer_science_students.add('Frank')\n",
    "print(\"3. Set after adding 'Frank':\", computer_science_students)\n",
    "\n",
    "# 4. Remove a student who dropped the course (handle the case where the student is not in the set).\n",
    "computer_science_students.discard('Eve')\n",
    "print(\"4. Set after discarding 'Eve':\", computer_science_students)\n",
    "\n",
    "# 5. Discard a student who is not actively participating (no error if the student is not present).\n",
    "computer_science_students.discard('Grace')\n",
    "print(\"5. Set after discarding 'Grace':\", computer_science_students)\n",
    "\n",
    "# 6. Clear all students from the set.\n",
    "computer_science_students.clear()\n",
    "print(\"6. Set after clearing:\", computer_science_students)\n"
   ]
  },
  {
   "cell_type": "code",
   "execution_count": 5,
   "metadata": {},
   "outputs": [
    {
     "name": "stdout",
     "output_type": "stream",
     "text": [
      "1. Updated Set with Robotics Club members: {'Grace', 'Alice', 'Charlie', 'Frank', 'Bob', 'David'}\n",
      "2. Set after removing students who left Chess Club: {'Grace', 'Charlie', 'Bob', 'David'}\n",
      "3. Copied Set of Activity Students: {'Grace', 'Charlie', 'David', 'Bob'}\n",
      "4. Popped Student: Grace\n",
      "5. Set of Activity Students after clearing: set()\n"
     ]
    }
   ],
   "source": [
    "'''\n",
    "Question 2: Extend the set to include students involved in various extracurricular activities.\n",
    "Add students who joined the Robotics Club. Remove students who left the Chess Club (handle the case where students are not in the set).\n",
    "Create a copy of the set of students involved in activities. Pop and display an arbitrary student involved in activities\n",
    " (handle the case where the set is empty). Clear all students involved in activities.​\n",
    "\n",
    "'''\n",
    "\n",
    "# solution\n",
    "\n",
    "activity_students = {'Alice', 'David', 'Frank', 'Grace'}\n",
    "\n",
    "# 1. Add students who joined the Robotics Club.\n",
    "robotics_students = {'Bob', 'Charlie'}\n",
    "activity_students.update(robotics_students)\n",
    "print(\"1. Updated Set with Robotics Club members:\", activity_students)\n",
    "\n",
    "# 2. Remove students who left the Chess Club (handle the case where students are not in the set).\n",
    "chess_students_left = {'Alice', 'Frank'}\n",
    "activity_students.difference_update(chess_students_left)\n",
    "print(\"2. Set after removing students who left Chess Club:\", activity_students)\n",
    "\n",
    "# 3. Create a copy of the set of students involved in activities.\n",
    "copied_activity_students = activity_students.copy()\n",
    "print(\"3. Copied Set of Activity Students:\", copied_activity_students)\n",
    "\n",
    "# 4. Pop and display an arbitrary student involved in activities (handle the case where the set is empty).\n",
    "try:\n",
    "    popped_student = activity_students.pop()\n",
    "    print(\"4. Popped Student:\", popped_student)\n",
    "except KeyError as e:\n",
    "    print(\"4. Error:\", e)\n",
    "\n",
    "# 5. Clear all students involved in activities.\n",
    "activity_students.clear()\n",
    "print(\"5. Set of Activity Students after clearing:\", activity_students)\n"
   ]
  },
  {
   "cell_type": "code",
   "execution_count": 8,
   "metadata": {},
   "outputs": [
    {
     "name": "stdout",
     "output_type": "stream",
     "text": [
      "1. Common Students: set()\n",
      "2. Students only in Computer Science course: set()\n",
      "3. Students only involved in activities: {'Grace', 'Charlie', 'David', 'Bob'}\n"
     ]
    }
   ],
   "source": [
    "'''\n",
    "Question 3: Consider a scenario where students from the Computer Science course and students involved in activities might overlap.\n",
    "Find and display the students who are both enrolled in the Computer Science course and involved in activities.\n",
    "Find and display the students who are only enrolled in the Computer Science course. \n",
    "Find and display the students who are only involved in activities.\n",
    "\n",
    "'''\n",
    "\n",
    "# solution\n",
    "\n",
    "# Common students between Computer Science course and students involved in activities\n",
    "common_students = computer_science_students.intersection(copied_activity_students)\n",
    "print(\"1. Common Students:\", common_students)\n",
    "\n",
    "# Students only enrolled in the Computer Science course\n",
    "cs_only_students = computer_science_students.difference(activity_students)\n",
    "print(\"2. Students only in Computer Science course:\", cs_only_students)\n",
    "\n",
    "# Students only involved in activities\n",
    "activity_only_students = copied_activity_students.difference(computer_science_students)\n",
    "print(\"3. Students only involved in activities:\", activity_only_students)\n"
   ]
  },
  {
   "cell_type": "code",
   "execution_count": 10,
   "metadata": {},
   "outputs": [
    {
     "name": "stdout",
     "output_type": "stream",
     "text": [
      "1. Common Students in Computer Science and Prerequisite course: set()\n",
      "2. Students only in Prerequisite course: {'David', 'Bob', 'Frank'}\n"
     ]
    }
   ],
   "source": [
    "'''\n",
    "Question 4: Assume some students are enrolled in prerequisite courses. Create a set representing students enrolled\n",
    "in the prerequisite course. Identify and display the students who are in both the Computer Science course \n",
    "and the prerequisite course. Identify and display the students who are only in the prerequisite course.​\n",
    "'''\n",
    "\n",
    "# Solution:\n",
    "\n",
    "prerequisite_students = {'Bob', 'David', 'Frank'}\n",
    "\n",
    "# 1. Identify and display the students who are in both the Computer Science course and the prerequisite course.\n",
    "common_prerequisite_students = computer_science_students.intersection(prerequisite_students)\n",
    "print(\"1. Common Students in Computer Science and Prerequisite course:\", common_prerequisite_students)\n",
    "\n",
    "# 2. Identify and display the students who are only in the prerequisite course.\n",
    "prerequisite_only_students = prerequisite_students.difference(computer_science_students)\n",
    "print(\"2. Students only in Prerequisite course:\", prerequisite_only_students)\n"
   ]
  },
  {
   "cell_type": "code",
   "execution_count": 17,
   "metadata": {},
   "outputs": [
    {
     "name": "stdout",
     "output_type": "stream",
     "text": [
      "Mutual Friends of Alice and Bob: set()\n",
      "Suggested Friends for Alice: {'David'}\n"
     ]
    }
   ],
   "source": [
    "'''\n",
    "Question 5: Social Network Connections\n",
    "Create a system to represent social network connections using sets. Each user is represented by a set of their friends.\n",
    "Implement functions to add new friendships, find mutual friends, and suggest new friends.\n",
    "'''\n",
    "# sollution\n",
    "\n",
    "\n",
    "social_network = {}\n",
    "\n",
    "def add_friendship(user1, user2):\n",
    "    social_network.setdefault(user1, set()).add(user2)\n",
    "    social_network.setdefault(user2, set()).add(user1)\n",
    "\n",
    "def find_mutual_friends(user1, user2):\n",
    "    friends_user1 = social_network.get(user1, set())\n",
    "    friends_user2 = social_network.get(user2, set())\n",
    "    mutual_friends = friends_user1.intersection(friends_user2)\n",
    "    return mutual_friends\n",
    "\n",
    "def suggest_new_friends(user):\n",
    "    friends_of_friends = set()\n",
    "    friends = social_network.get(user, set())\n",
    "    for friend in friends:\n",
    "        friends_of_friends.update(social_network.get(friend, set()))\n",
    "    suggested_friends = friends_of_friends - friends - {user}\n",
    "    return suggested_friends\n",
    "\n",
    "# Example Usage\n",
    "add_friendship(\"Alice\", \"Bob\")\n",
    "add_friendship(\"Alice\", \"Charlie\")\n",
    "add_friendship(\"Bob\", \"David\")\n",
    "\n",
    "user1 = \"Alice\"\n",
    "user2 = \"Bob\"\n",
    "print(f\"Mutual Friends of {user1} and {user2}: {find_mutual_friends(user1, user2)}\")\n",
    "\n",
    "user_to_suggest_friends = \"Alice\"\n",
    "suggested_friends = suggest_new_friends(user_to_suggest_friends)\n",
    "print(f\"Suggested Friends for {user_to_suggest_friends}: {suggested_friends}\")\n"
   ]
  },
  {
   "cell_type": "code",
   "execution_count": 13,
   "metadata": {},
   "outputs": [
    {
     "name": "stdout",
     "output_type": "stream",
     "text": [
      "Common Courses between Alice and Bob: {'Physics'}\n",
      "Unique Courses for Charlie: set()\n"
     ]
    }
   ],
   "source": [
    "'''\n",
    "Question 6: Set Operations on Student Courses\n",
    "Create a program to represent the courses taken by students using sets. \n",
    "Implement functions to add courses, find common courses between students, and identify unique courses for each student.\n",
    "'''\n",
    "\n",
    "# solution\n",
    "\n",
    "\n",
    "student_courses = {}\n",
    "\n",
    "def add_courses(student, courses):\n",
    "    student_courses.setdefault(student, set()).update(courses)\n",
    "\n",
    "def common_courses_between_students(student1, student2):\n",
    "    courses_student1 = student_courses.get(student1, set())\n",
    "    courses_student2 = student_courses.get(student2, set())\n",
    "    common_courses = courses_student1.intersection(courses_student2)\n",
    "    return common_courses\n",
    "\n",
    "def unique_courses_for_student(student):\n",
    "    all_courses = set.union(*(courses for key, courses in student_courses.items() if key != student))\n",
    "    student_courses_set = student_courses.get(student, set())\n",
    "    unique_courses = student_courses_set - all_courses\n",
    "    return unique_courses\n",
    "\n",
    "# Example Usage\n",
    "add_courses(\"Alice\", {\"Math\", \"Physics\", \"Chemistry\"})\n",
    "add_courses(\"Bob\", {\"Physics\", \"Biology\", \"Computer Science\"})\n",
    "add_courses(\"Charlie\", {\"Math\", \"Chemistry\", \"Computer Science\"})\n",
    "\n",
    "student1 = \"Alice\"\n",
    "student2 = \"Bob\"\n",
    "print(f\"Common Courses between {student1} and {student2}: {common_courses_between_students(student1, student2)}\")\n",
    "\n",
    "student_to_find_unique_courses = \"Charlie\"\n",
    "unique_courses = unique_courses_for_student(student_to_find_unique_courses)\n",
    "print(f\"Unique Courses for {student_to_find_unique_courses}: {unique_courses}\")\n"
   ]
  },
  {
   "cell_type": "code",
   "execution_count": 15,
   "metadata": {},
   "outputs": [
    {
     "name": "stdout",
     "output_type": "stream",
     "text": [
      "Winner: CandidateA\n",
      "Candidates with No Votes: set()\n"
     ]
    }
   ],
   "source": [
    "''''\n",
    "Question 7: Voting System\n",
    "Develop a voting system using sets to represent votes for different candidates.\n",
    "Implement functions to cast votes, determine the winner, and identify candidates with no votes.\n",
    "\n",
    "'''\n",
    "\n",
    "# solution\n",
    "\n",
    "votes = {}\n",
    "\n",
    "def cast_vote(voter, candidate):\n",
    "    votes.setdefault(candidate, set()).add(voter)\n",
    "\n",
    "def determine_winner():\n",
    "    if not votes:\n",
    "        return None\n",
    "    winner = max(votes, key=lambda x: len(votes[x]))\n",
    "    return winner\n",
    "\n",
    "def candidates_with_no_votes():\n",
    "    all_voters = set.union(*(voters for candidate, voters in votes.items()))\n",
    "    all_candidates = set(votes.keys())\n",
    "    candidates_no_votes = all_candidates - set(votes.keys())\n",
    "    return candidates_no_votes\n",
    "\n",
    "# Example Usage\n",
    "cast_vote(\"Voter1\", \"CandidateA\")\n",
    "cast_vote(\"Voter2\", \"CandidateA\")\n",
    "cast_vote(\"Voter3\", \"CandidateB\")\n",
    "cast_vote(\"Voter4\", \"CandidateC\")\n",
    "\n",
    "print(\"Winner:\", determine_winner())\n",
    "print(\"Candidates with No Votes:\", candidates_with_no_votes())\n"
   ]
  },
  {
   "cell_type": "code",
   "execution_count": 16,
   "metadata": {},
   "outputs": [
    {
     "name": "stdout",
     "output_type": "stream",
     "text": [
      "Common Items between Grocery and Clothing: set()\n",
      "Unique Items for Electronics: {'Laptop', 'Headphones', 'Phone'}\n"
     ]
    }
   ],
   "source": [
    "'''\n",
    "Question 8: Set Operations on Shopping Lists\n",
    "Create a program to represent shopping lists using sets.\n",
    "Implement functions to add items, find common items between different lists, and identify items that are unique to each list.\n",
    "\n",
    "'''\n",
    "# solution\n",
    "\n",
    "shopping_lists = {}\n",
    "\n",
    "def add_items(shopping_list, items):\n",
    "    shopping_lists.setdefault(shopping_list, set()).update(items)\n",
    "\n",
    "def common_items_between_lists(list1, list2):\n",
    "    items_list1 = shopping_lists.get(list1, set())\n",
    "    items_list2 = shopping_lists.get(list2, set())\n",
    "    common_items = items_list1.intersection(items_list2)\n",
    "    return common_items\n",
    "\n",
    "def unique_items_for_list(shopping_list):\n",
    "    all_items = set.union(*(items for key, items in shopping_lists.items() if key != shopping_list))\n",
    "    items_list_set = shopping_lists.get(shopping_list, set())\n",
    "    unique_items = items_list_set - all_items\n",
    "    return unique_items\n",
    "\n",
    "# Example Usage\n",
    "add_items(\"Grocery\", {\"Milk\", \"Bread\", \"Eggs\"})\n",
    "add_items(\"Clothing\", {\"Shirt\", \"Jeans\", \"Socks\"})\n",
    "add_items(\"Electronics\", {\"Laptop\", \"Phone\", \"Headphones\"})\n",
    "\n",
    "list1 = \"Grocery\"\n",
    "list2 = \"Clothing\"\n",
    "print(f\"Common Items between {list1} and {list2}: {common_items_between_lists(list1, list2)}\")\n",
    "\n",
    "list_to_find_unique_items = \"Electronics\"\n",
    "unique_items = unique_items_for_list(list_to_find_unique_items)\n",
    "print(f\"Unique Items for {list_to_find_unique_items}: {unique_items}\")\n"
   ]
  }
 ],
 "metadata": {
  "kernelspec": {
   "display_name": "Python 3",
   "language": "python",
   "name": "python3"
  },
  "language_info": {
   "codemirror_mode": {
    "name": "ipython",
    "version": 3
   },
   "file_extension": ".py",
   "mimetype": "text/x-python",
   "name": "python",
   "nbconvert_exporter": "python",
   "pygments_lexer": "ipython3",
   "version": "3.10.10"
  }
 },
 "nbformat": 4,
 "nbformat_minor": 2
}
