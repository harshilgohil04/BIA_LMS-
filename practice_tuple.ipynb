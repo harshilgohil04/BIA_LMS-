{
 "cells": [
  {
   "cell_type": "code",
   "execution_count": 2,
   "metadata": {},
   "outputs": [],
   "source": [
    "# Syntax for creating tuples \n",
    "\n",
    "# Tuples are created using prentheses()\n",
    "\n",
    "my_tuple=(4,5)"
   ]
  },
  {
   "cell_type": "code",
   "execution_count": 4,
   "metadata": {},
   "outputs": [],
   "source": [
    "# creating tuple with integers.\n",
    "\n",
    "int_tuple=(1,2,3)\n",
    "\n",
    "# creating mix type tuple.\n",
    "\n",
    "mixed_tuple=(\"apple\",4,5.5,True)\n",
    "\n",
    "# empty tuple\n",
    "\n",
    "empty_tuple=()"
   ]
  },
  {
   "cell_type": "code",
   "execution_count": 7,
   "metadata": {},
   "outputs": [],
   "source": [
    "# immutability of tuple\n",
    "\n",
    "# tuples are immutable,meaninf their elements cannot be changed,add or remove after creation.\n",
    "\n",
    "# examples\n",
    "\n",
    "# attempting to change a tuple (results in an error )\n",
    "\n",
    "\n",
    "your_tuple=(1,2,3)\n",
    "\n",
    "# attempting to change second element will raise a typeError\n",
    "\n",
    "# your_tuple[1]=5\n",
    "\n",
    "\n",
    "# creating new tuple based on an exiting tuple\n",
    "\n",
    "original_tuple=(1,2,3)\n",
    "\n",
    "new_tuple=original_tuple+(4,5)"
   ]
  },
  {
   "cell_type": "markdown",
   "metadata": {},
   "source": [
    "OPERATION ON TUPLE"
   ]
  },
  {
   "cell_type": "code",
   "execution_count": null,
   "metadata": {},
   "outputs": [],
   "source": [
    "'''\n",
    "similarities and differences with list operations:\n",
    "\n",
    "similarities\n",
    "\n",
    "-tuples and list share some basics operation like indexing and slicing.\n",
    "-both support len() function to determine the number of elements.\n",
    "\n",
    "\n",
    "differences\n",
    "\n",
    "-tuples are immutable so operation like addition, removal, or midification are not applicable.\n",
    "\n",
    "\n",
    "'''"
   ]
  },
  {
   "cell_type": "code",
   "execution_count": 9,
   "metadata": {},
   "outputs": [
    {
     "data": {
      "text/plain": [
       "(1, 2, 3, 'a', 'b')"
      ]
     },
     "execution_count": 9,
     "metadata": {},
     "output_type": "execute_result"
    }
   ],
   "source": [
    "# basics operation tuples\n",
    "\n",
    "# concatenation\n",
    "\n",
    "tuple1=(1,2,3)\n",
    "\n",
    "tuple2=('a','b')\n",
    "\n",
    "concatenated_tuple=tuple1 + tuple2\n",
    "concatenated_tuple"
   ]
  },
  {
   "cell_type": "code",
   "execution_count": 12,
   "metadata": {},
   "outputs": [
    {
     "data": {
      "text/plain": [
       "(1, 2, 3, 1, 2, 3, 1, 2, 3)"
      ]
     },
     "execution_count": 12,
     "metadata": {},
     "output_type": "execute_result"
    }
   ],
   "source": [
    "# repetition\n",
    "\n",
    "original_tuple\n",
    "\n",
    "repeated_tuple=original_tuple * 3\n",
    "repeated_tuple"
   ]
  },
  {
   "cell_type": "code",
   "execution_count": 15,
   "metadata": {},
   "outputs": [
    {
     "name": "stdout",
     "output_type": "stream",
     "text": [
      "1\n",
      "2\n",
      "3\n"
     ]
    }
   ],
   "source": [
    "# iteration\n",
    "\n",
    "your_tuple\n",
    "\n",
    "for element in your_tuple:\n",
    "    print(element)"
   ]
  },
  {
   "cell_type": "code",
   "execution_count": 18,
   "metadata": {},
   "outputs": [
    {
     "data": {
      "text/plain": [
       "(1, 2, 'theree')"
      ]
     },
     "execution_count": 18,
     "metadata": {},
     "output_type": "execute_result"
    }
   ],
   "source": [
    "# tuple packing and unpacking \n",
    "\n",
    "# Packing \n",
    "\n",
    "\n",
    "my_tuple= 1,2, 'theree'\n",
    "\n",
    "\n",
    "# unpacking \n",
    "\n",
    "a,b,c =my_tuple\n",
    "\n",
    "my_tuple\n",
    "\n",
    "\n"
   ]
  },
  {
   "cell_type": "code",
   "execution_count": 25,
   "metadata": {},
   "outputs": [
    {
     "data": {
      "text/plain": [
       "True"
      ]
     },
     "execution_count": 25,
     "metadata": {},
     "output_type": "execute_result"
    }
   ],
   "source": [
    "# length and membership (in):\n",
    "\n",
    "# length\n",
    "\n",
    "your_tuple\n",
    "\n",
    "length=len(your_tuple)\n",
    "\n",
    "length\n",
    "\n",
    "# membership\n",
    "\n",
    "your_tuple=(1,2,3) \n",
    "\n",
    "is_present= 2 in your_tuple\n",
    "is_present\n"
   ]
  },
  {
   "cell_type": "code",
   "execution_count": 28,
   "metadata": {},
   "outputs": [],
   "source": [
    "# comparison with list operation \n",
    "\n",
    "#indexing and slicing\n",
    "\n",
    "my_tuple=(1,2,3,4,5)\n",
    "\n",
    "element=my_tuple[2]     # indexing\n",
    "\n",
    "subset= my_tuple[1:4]   # slicing\n",
    "\n",
    "\n",
    "#length(len)\n",
    "\n",
    "my_list=[1,2,3,4,5]\n",
    "\n",
    "length_list=len(my_list)        # length of list\n",
    "\n",
    "\n",
    "# membership (in)\n",
    "\n",
    "my_list\n",
    "\n",
    "is_present_list= 2 in my_list       # membership check in a list \n"
   ]
  },
  {
   "cell_type": "code",
   "execution_count": 30,
   "metadata": {},
   "outputs": [],
   "source": [
    "# indexing and slicing in tupel\n",
    "\n",
    "# indexing in tuples\n",
    "\n",
    "my_tuple=('apple','banana','cherry')\n",
    "\n",
    "fruit=my_tuple[1]       # accessing the second element banana\n",
    "\n",
    "\n",
    "# slicing in tuples\n",
    "\n",
    "my_tuple=(1,2,3,4,5)\n",
    "\n",
    "subset=my_tuple[1:4]    # extracting element at indices 1,2,3\n"
   ]
  },
  {
   "cell_type": "code",
   "execution_count": 31,
   "metadata": {},
   "outputs": [],
   "source": [
    "# conversion between lists and tuples:\n",
    "\n",
    "my_list = [1, 2, 3]\n",
    "\n",
    "my_tuple = tuple(my_list)\n",
    "\n",
    "another_tuple = ('a', 'b', 'c')\n",
    "\n",
    "another_list = list(another_tuple)"
   ]
  },
  {
   "cell_type": "markdown",
   "metadata": {},
   "source": [
    "questions"
   ]
  },
  {
   "cell_type": "code",
   "execution_count": 9,
   "metadata": {},
   "outputs": [
    {
     "name": "stdout",
     "output_type": "stream",
     "text": [
      "Course information for CS101:\n",
      "Students ['alice', 'bob', 'charlie']:\n",
      "Grades:[90, 85, 92]\n",
      "Average Grade:89.0\n",
      "Best student in CS101: charlie\n",
      "Updated course information for CS101\n",
      "Students:['alice', 'bob', 'charlie']\n",
      "Grades[90, 88, 92]\n",
      "Average grades:89.0\n"
     ]
    }
   ],
   "source": [
    "'''\n",
    "Question-1\n",
    "\n",
    "You are managing student course enrollments, and each course has a unique identifier, a list of enrolled students, \n",
    "and their corresponding grades. Implement a program using advanced tuple operations to perform the following:\n",
    "\n",
    "1 Create a tuple for a course containing its identifier, a list of enrolled students, and their grades.\n",
    "2 Display the course information, including the average grade.\n",
    "3 Identify and display the student with the highest grade in the course.\n",
    "4 Update the grade of a specific student.\n",
    "\n",
    "    '''\n",
    "\n",
    "#course information\n",
    "\n",
    "course_data=(\"CS101\",[\"alice\",\"bob\",\"charlie\"],[90,85,92])\n",
    "\n",
    "# 1 display the course information and including average grade \n",
    "\n",
    "course_id,students,grades=course_data\n",
    "average_grade=sum(grades)/ len(grades)\n",
    "\n",
    "print(f\"Course information for {course_id}:\\nStudents {students}:\\nGrades:{grades}\\nAverage Grade:{average_grade}\")\n",
    "\n",
    "# 2 identify and display the students with the highest grade in the course \n",
    "\n",
    "best_student=students[grades.index(max(grades))]\n",
    "print(f\"Best student in {course_id}: {best_student}\")\n",
    "\n",
    "# 3 update the grade of a specific students \n",
    "\n",
    "update_grades= list(grades)\n",
    "update_grades[1]=88\n",
    "course_data=course_id,students,update_grades\n",
    "print(f\"Updated course information for {course_id}\\nStudents:{students}\\nGrades{update_grades}\\nAverage grades:{average_grade}\")\n",
    "\n",
    "\n"
   ]
  },
  {
   "cell_type": "code",
   "execution_count": 9,
   "metadata": {},
   "outputs": [
    {
     "name": "stdout",
     "output_type": "stream",
     "text": [
      "List of student tuples: [('alice', 20, 85), ('bob', 22, 90), ('charlie', 19, 89), ('david', 21, 95)]\n",
      "Filtered student information:  [('bob', 22, 90), ('david', 21, 95)]\n"
     ]
    }
   ],
   "source": [
    "'''\n",
    "Quesion-2\n",
    "Question 2: Filtered Student Information \n",
    "\n",
    "You have a list of student names, their ages, and their grades. \n",
    "Implement a program using tuple comprehension and filtering to perform the following:\n",
    "\n",
    "1 Create a list of tuples where each tuple contains a student's name, age, and grade.\n",
    "2 Display the list of student tuples.\n",
    "3 Filter and display only the information of students who are above a certain age.\n",
    "    '''\n",
    "\n",
    "\n",
    "#student information\n",
    "\n",
    "name=[\"alice\",\"bob\",\"charlie\",\"david\"]\n",
    "age=[20,22,19,21]\n",
    "grade=[85,90,89,95]\n",
    "\n",
    "\n",
    "# create a list of tupples with name , age ,grade\n",
    "\n",
    "student_info= [(name,age,grade) for name, age,grade in zip (name,age,grade)]\n",
    "\n",
    "\n",
    "# display the list of student tuple \n",
    "\n",
    "print(\"List of student tuples:\", student_info)\n",
    "\n",
    "\n",
    "# filter and display information of students above a certain age\n",
    "\n",
    "filtered_student=[(name,age,grade)for name,age,grade in student_info if age > 20]\n",
    "print(\"Filtered student information: \", filtered_student)\n",
    "                                                    \n",
    "                                                    \n",
    "                                                    \n",
    "\n",
    "\n",
    "\n"
   ]
  },
  {
   "cell_type": "code",
   "execution_count": 13,
   "metadata": {},
   "outputs": [
    {
     "name": "stdout",
     "output_type": "stream",
     "text": [
      "Total Salaries: [800, 875, 900]\n",
      "Best Employee: ('charlie', 18, 50)\n",
      "Average total salary: 858.3333333333334\n"
     ]
    }
   ],
   "source": [
    "'''\n",
    "Question 3: Employee Salary Calculation\n",
    "\n",
    "You have a list of employees, and each employee is represented as a tuple containing their name, hourly rate, and hours worked.\n",
    " Implement a program using tuple unpacking and functions to perform the following:\n",
    "\n",
    "Calculate and display the total salary for each employee.\n",
    "Identify and display the employee with the highest total salary.\n",
    "Display the average total salary of all employees.\n",
    "\n",
    "'''\n",
    "# solution\n",
    "\n",
    "#employee information\n",
    "\n",
    "employees = [(\"alice\",20,40),(\"bob\",25,35),(\"charlie\",18,50)]\n",
    "\n",
    "# Function to calculate total salary\n",
    "\n",
    "def calculate_total_salary(rate,hours):\n",
    "    return rate * hours\n",
    "\n",
    "# calculate and the display the total salary for each employee \n",
    "\n",
    "total_salaries=[calculate_total_salary(rate,hours) for _, rate,hours in employees]\n",
    "print(\"Total Salaries:\",total_salaries)\n",
    "\n",
    "# identify and display the employee with the highest total salary \n",
    "\n",
    "best_employee=employees[total_salaries.index(max(total_salaries))]\n",
    "print(\"Best Employee:\",best_employee)\n",
    "\n",
    "# display the average total salaries of all employee\n",
    "\n",
    "average_salary=sum(total_salaries)/ len(employees)\n",
    "print(\"Average total salary:\",average_salary)"
   ]
  },
  {
   "cell_type": "code",
   "execution_count": 22,
   "metadata": {},
   "outputs": [
    {
     "name": "stdout",
     "output_type": "stream",
     "text": [
      "Student average scores: {'alice': 91.0, 'bob': 86.66666666666667, 'charlie': 84.66666666666667}\n",
      "Best student: alice\n",
      "Subject average scorce: {'subject1': 80.66666666666667, 'subject2': 89.0, 'subject3': 92.66666666666667}\n"
     ]
    }
   ],
   "source": [
    "'''\n",
    "Question 4: Student Grade Book \n",
    "\n",
    "You have a dictionary where the keys are student names, and \n",
    "the values are tuples containing their scores in three different subjects. \n",
    "Implement a program using tuple and dictionary integration to perform the following:\n",
    "\n",
    "1 Display the student names and their average scores.\n",
    "2 Identify and display the student with the highest average score. \n",
    "3 Display the average scores for each subject.\n",
    "\n",
    "'''\n",
    "# solution\n",
    "\n",
    "# student grade book\n",
    "\n",
    "grade_book={\"alice\":(85,90,98),\"bob\":(78,86,96), \"charlie\":(79,91,84)}\n",
    "\n",
    "# display the student name and their average scores\n",
    "\n",
    "average_scores={name: sum(scores)/ len(scores) for name,scores in grade_book.items()}\n",
    "print(\"Student average scores:\", average_scores)\n",
    "\n",
    "# identify and display the students with highest average score\n",
    "\n",
    "best_students=max(average_scores, key=average_scores.get)\n",
    "print(\"Best student:\",best_students)\n",
    "\n",
    "\n",
    "# display the average score for each subject \n",
    "\n",
    "subject_name=[\"subject1\",\"subject2\",\"subject3\"]\n",
    "subject_average={subject:sum(grade_book[name][i]for name in grade_book)/ len(grade_book)for i, subject in enumerate(subject_name)}\n",
    "print(\"Subject average scorce:\",subject_average)\n"
   ]
  },
  {
   "cell_type": "code",
   "execution_count": null,
   "metadata": {},
   "outputs": [],
   "source": []
  },
  {
   "cell_type": "code",
   "execution_count": null,
   "metadata": {},
   "outputs": [],
   "source": []
  }
 ],
 "metadata": {
  "kernelspec": {
   "display_name": "Python 3",
   "language": "python",
   "name": "python3"
  },
  "language_info": {
   "codemirror_mode": {
    "name": "ipython",
    "version": 3
   },
   "file_extension": ".py",
   "mimetype": "text/x-python",
   "name": "python",
   "nbconvert_exporter": "python",
   "pygments_lexer": "ipython3",
   "version": "3.10.10"
  }
 },
 "nbformat": 4,
 "nbformat_minor": 2
}
