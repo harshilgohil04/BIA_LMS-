{
 "cells": [
  {
   "cell_type": "code",
   "execution_count": 2,
   "metadata": {},
   "outputs": [],
   "source": [
    "# Syntax for creating tuples \n",
    "\n",
    "# Tuples are created using prentheses()\n",
    "\n",
    "my_tuple=(4,5)"
   ]
  },
  {
   "cell_type": "code",
   "execution_count": 4,
   "metadata": {},
   "outputs": [],
   "source": [
    "# creating tuple with integers.\n",
    "\n",
    "int_tuple=(1,2,3)\n",
    "\n",
    "# creating mix type tuple.\n",
    "\n",
    "mixed_tuple=(\"apple\",4,5.5,True)\n",
    "\n",
    "# empty tuple\n",
    "\n",
    "empty_tuple=()"
   ]
  },
  {
   "cell_type": "code",
   "execution_count": 7,
   "metadata": {},
   "outputs": [],
   "source": [
    "# immutability of tuple\n",
    "\n",
    "# tuples are immutable,meaninf their elements cannot be changed,add or remove after creation.\n",
    "\n",
    "# examples\n",
    "\n",
    "# attempting to change a tuple (results in an error )\n",
    "\n",
    "\n",
    "your_tuple=(1,2,3)\n",
    "\n",
    "# attempting to change second element will raise a typeError\n",
    "\n",
    "# your_tuple[1]=5\n",
    "\n",
    "\n",
    "# creating new tuple based on an exiting tuple\n",
    "\n",
    "original_tuple=(1,2,3)\n",
    "\n",
    "new_tuple=original_tuple+(4,5)"
   ]
  },
  {
   "cell_type": "markdown",
   "metadata": {},
   "source": [
    "OPERATION ON TUPLE"
   ]
  },
  {
   "cell_type": "code",
   "execution_count": null,
   "metadata": {},
   "outputs": [],
   "source": [
    "'''\n",
    "similarities and differences with list operations:\n",
    "\n",
    "similarities\n",
    "\n",
    "-tuples and list share some basics operation like indexing and slicing.\n",
    "-both support len() function to determine the number of elements.\n",
    "\n",
    "\n",
    "differences\n",
    "\n",
    "-tuples are immutable so operation like addition, removal, or midification are not applicable.\n",
    "\n",
    "\n",
    "'''"
   ]
  },
  {
   "cell_type": "code",
   "execution_count": 9,
   "metadata": {},
   "outputs": [
    {
     "data": {
      "text/plain": [
       "(1, 2, 3, 'a', 'b')"
      ]
     },
     "execution_count": 9,
     "metadata": {},
     "output_type": "execute_result"
    }
   ],
   "source": [
    "# basics operation tuples\n",
    "\n",
    "# concatenation\n",
    "\n",
    "tuple1=(1,2,3)\n",
    "\n",
    "tuple2=('a','b')\n",
    "\n",
    "concatenated_tuple=tuple1 + tuple2\n",
    "concatenated_tuple"
   ]
  },
  {
   "cell_type": "code",
   "execution_count": 12,
   "metadata": {},
   "outputs": [
    {
     "data": {
      "text/plain": [
       "(1, 2, 3, 1, 2, 3, 1, 2, 3)"
      ]
     },
     "execution_count": 12,
     "metadata": {},
     "output_type": "execute_result"
    }
   ],
   "source": [
    "# repetition\n",
    "\n",
    "original_tuple\n",
    "\n",
    "repeated_tuple=original_tuple * 3\n",
    "repeated_tuple"
   ]
  },
  {
   "cell_type": "code",
   "execution_count": 15,
   "metadata": {},
   "outputs": [
    {
     "name": "stdout",
     "output_type": "stream",
     "text": [
      "1\n",
      "2\n",
      "3\n"
     ]
    }
   ],
   "source": [
    "# iteration\n",
    "\n",
    "your_tuple\n",
    "\n",
    "for element in your_tuple:\n",
    "    print(element)"
   ]
  },
  {
   "cell_type": "code",
   "execution_count": 18,
   "metadata": {},
   "outputs": [
    {
     "data": {
      "text/plain": [
       "(1, 2, 'theree')"
      ]
     },
     "execution_count": 18,
     "metadata": {},
     "output_type": "execute_result"
    }
   ],
   "source": [
    "# tuple packing and unpacking \n",
    "\n",
    "# Packing \n",
    "\n",
    "\n",
    "my_tuple= 1,2, 'theree'\n",
    "\n",
    "\n",
    "# unpacking \n",
    "\n",
    "a,b,c =my_tuple\n",
    "\n",
    "my_tuple\n",
    "\n",
    "\n"
   ]
  },
  {
   "cell_type": "code",
   "execution_count": 25,
   "metadata": {},
   "outputs": [
    {
     "data": {
      "text/plain": [
       "True"
      ]
     },
     "execution_count": 25,
     "metadata": {},
     "output_type": "execute_result"
    }
   ],
   "source": [
    "# length and membership (in):\n",
    "\n",
    "# length\n",
    "\n",
    "your_tuple\n",
    "\n",
    "length=len(your_tuple)\n",
    "\n",
    "length\n",
    "\n",
    "# membership\n",
    "\n",
    "your_tuple=(1,2,3) \n",
    "\n",
    "is_present= 2 in your_tuple\n",
    "is_present\n"
   ]
  },
  {
   "cell_type": "code",
   "execution_count": 28,
   "metadata": {},
   "outputs": [],
   "source": [
    "# comparison with list operation \n",
    "\n",
    "#indexing and slicing\n",
    "\n",
    "my_tuple=(1,2,3,4,5)\n",
    "\n",
    "element=my_tuple[2]     # indexing\n",
    "\n",
    "subset= my_tuple[1:4]   # slicing\n",
    "\n",
    "\n",
    "#length(len)\n",
    "\n",
    "my_list=[1,2,3,4,5]\n",
    "\n",
    "length_list=len(my_list)        # length of list\n",
    "\n",
    "\n",
    "# membership (in)\n",
    "\n",
    "my_list\n",
    "\n",
    "is_present_list= 2 in my_list       # membership check in a list \n"
   ]
  },
  {
   "cell_type": "code",
   "execution_count": 30,
   "metadata": {},
   "outputs": [],
   "source": [
    "# indexing and slicing in tupel\n",
    "\n",
    "# indexing in tuples\n",
    "\n",
    "my_tuple=('apple','banana','cherry')\n",
    "\n",
    "fruit=my_tuple[1]       # accessing the second element banana\n",
    "\n",
    "\n",
    "# slicing in tuples\n",
    "\n",
    "my_tuple=(1,2,3,4,5)\n",
    "\n",
    "subset=my_tuple[1:4]    # extracting element at indices 1,2,3\n"
   ]
  },
  {
   "cell_type": "code",
   "execution_count": 31,
   "metadata": {},
   "outputs": [],
   "source": [
    "# conversion between lists and tuples:\n",
    "\n",
    "my_list = [1, 2, 3]\n",
    "\n",
    "my_tuple = tuple(my_list)\n",
    "\n",
    "another_tuple = ('a', 'b', 'c')\n",
    "\n",
    "another_list = list(another_tuple)"
   ]
  }
 ],
 "metadata": {
  "kernelspec": {
   "display_name": "Python 3",
   "language": "python",
   "name": "python3"
  },
  "language_info": {
   "codemirror_mode": {
    "name": "ipython",
    "version": 3
   },
   "file_extension": ".py",
   "mimetype": "text/x-python",
   "name": "python",
   "nbconvert_exporter": "python",
   "pygments_lexer": "ipython3",
   "version": "3.10.10"
  }
 },
 "nbformat": 4,
 "nbformat_minor": 2
}
