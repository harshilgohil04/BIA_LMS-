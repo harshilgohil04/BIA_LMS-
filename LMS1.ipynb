{
 "cells": [
  {
   "cell_type": "code",
   "execution_count": 2,
   "metadata": {},
   "outputs": [
    {
     "data": {
      "text/plain": [
       "{'name': 'John', 'city': 'New York'}"
      ]
     },
     "execution_count": 2,
     "metadata": {},
     "output_type": "execute_result"
    }
   ],
   "source": [
    "my_dict = {'name': 'John', 'age': 25, 'city': 'New York'}\n"
   ]
  },
  {
   "cell_type": "code",
   "execution_count": 6,
   "metadata": {},
   "outputs": [
    {
     "data": {
      "text/plain": [
       "25"
      ]
     },
     "execution_count": 6,
     "metadata": {},
     "output_type": "execute_result"
    }
   ],
   "source": [
    "my_dict = {'name': 'John', 'age': 25, 'city': 'New York'}\n",
    "\n",
    "age = my_dict.get('age')\n",
    "age"
   ]
  },
  {
   "cell_type": "code",
   "execution_count": 5,
   "metadata": {},
   "outputs": [
    {
     "data": {
      "text/plain": [
       "True"
      ]
     },
     "execution_count": 5,
     "metadata": {},
     "output_type": "execute_result"
    }
   ],
   "source": [
    "A= \"Hello, World!\"\n",
    "\n",
    "b= A.startswith(\"Hello\")\n",
    "b"
   ]
  },
  {
   "cell_type": "code",
   "execution_count": 11,
   "metadata": {},
   "outputs": [
    {
     "data": {
      "text/plain": [
       "7"
      ]
     },
     "execution_count": 11,
     "metadata": {},
     "output_type": "execute_result"
    }
   ],
   "source": [
    "hi=5|3\n",
    "hi"
   ]
  },
  {
   "cell_type": "code",
   "execution_count": 16,
   "metadata": {},
   "outputs": [
    {
     "data": {
      "text/plain": [
       "'22222'"
      ]
     },
     "execution_count": 16,
     "metadata": {},
     "output_type": "execute_result"
    }
   ],
   "source": [
    "x=5\n",
    "y='2'\n",
    "x*y"
   ]
  },
  {
   "cell_type": "code",
   "execution_count": 17,
   "metadata": {},
   "outputs": [
    {
     "data": {
      "text/plain": [
       "True"
      ]
     },
     "execution_count": 17,
     "metadata": {},
     "output_type": "execute_result"
    }
   ],
   "source": [
    "True or False"
   ]
  },
  {
   "cell_type": "code",
   "execution_count": 18,
   "metadata": {},
   "outputs": [
    {
     "name": "stdout",
     "output_type": "stream",
     "text": [
      "[5, 2, 3]\n"
     ]
    }
   ],
   "source": [
    "a = [1, 2, 3] \n",
    "\n",
    "b = a \n",
    "\n",
    "b[0] = 5 \n",
    "\n",
    "print(a)"
   ]
  },
  {
   "cell_type": "code",
   "execution_count": 19,
   "metadata": {},
   "outputs": [
    {
     "data": {
      "text/plain": [
       "0"
      ]
     },
     "execution_count": 19,
     "metadata": {},
     "output_type": "execute_result"
    }
   ],
   "source": [
    "5 and 0"
   ]
  },
  {
   "cell_type": "code",
   "execution_count": 23,
   "metadata": {},
   "outputs": [
    {
     "data": {
      "text/plain": [
       "False"
      ]
     },
     "execution_count": 23,
     "metadata": {},
     "output_type": "execute_result"
    }
   ],
   "source": [
    "not True or False"
   ]
  },
  {
   "cell_type": "code",
   "execution_count": 25,
   "metadata": {},
   "outputs": [
    {
     "name": "stdout",
     "output_type": "stream",
     "text": [
      "The number is positive\n"
     ]
    }
   ],
   "source": [
    "number=int(input(\"Enter a number\"))\n",
    "\n",
    "if number>0:\n",
    "\n",
    "    print(\"The number is positive\")"
   ]
  },
  {
   "cell_type": "code",
   "execution_count": 27,
   "metadata": {},
   "outputs": [
    {
     "name": "stdout",
     "output_type": "stream",
     "text": [
      "you are eligible to vote \n"
     ]
    }
   ],
   "source": [
    "# Create a Python program that determines whether a person is eligible to vote based on their age\n",
    "\n",
    "age=int(input(\"Enter a age \"))\n",
    "\n",
    "if age>=18:\n",
    "    print(\"you are eligible to vote \")\n",
    "\n",
    "else:\n",
    "    print(\"not eligible for vote\")"
   ]
  },
  {
   "cell_type": "code",
   "execution_count": 29,
   "metadata": {},
   "outputs": [
    {
     "name": "stdout",
     "output_type": "stream",
     "text": [
      "your grade is A.\n"
     ]
    }
   ],
   "source": [
    "#Write a Python program that categorizes a student’s grade based on their test score.​\n",
    "\n",
    "\n",
    "score=int(input (\"Enter your score\"))\n",
    "\n",
    "if score >=90:\n",
    "    print(\"your grade is A.\")\n",
    "elif score >=80:\n",
    "    print(\"your grade is B.\")\n",
    "elif score >=70:\n",
    "    print(\"your grade is C.\")\n",
    "elif score >=60:\n",
    "    print(\"your grade is D.\")\n",
    "else :\n",
    "    print(\"your grade is F.\")\n"
   ]
  },
  {
   "cell_type": "code",
   "execution_count": 43,
   "metadata": {},
   "outputs": [
    {
     "name": "stdout",
     "output_type": "stream",
     "text": [
      "the number is odd and positive \n"
     ]
    }
   ],
   "source": [
    "\n",
    "#Create a Python program that checks if a given number is even and positive, even and negative, odd and positive, or odd and negative.​\n",
    "\n",
    "\n",
    "numbers=int(input(\"enter a number\"))\n",
    "\n",
    "if numbers > 0:\n",
    "\n",
    "    if numbers % 2== 0:\n",
    "        print (\"the number is even and possible\")\n",
    "\n",
    "    else:\n",
    "        print(\"the number is odd and positive \")\n",
    "\n",
    "\n",
    "elif numbers <0:\n",
    "    \n",
    "\n",
    "    if numbers % 2== 0:\n",
    "        print (\"the number is even and negitive\")\n",
    "\n",
    "    else:\n",
    "        print (\"the number is odd and negitive\")\n",
    "\n",
    "else:\n",
    "    (\"the number is zero\")\n"
   ]
  },
  {
   "cell_type": "code",
   "execution_count": 49,
   "metadata": {},
   "outputs": [
    {
     "name": "stdout",
     "output_type": "stream",
     "text": [
      "0\n",
      "1\n",
      "2\n",
      "3\n",
      "4\n"
     ]
    }
   ],
   "source": [
    "#while loop\n",
    "\n",
    "count =0\n",
    "\n",
    "while count <5:\n",
    "\n",
    "    print (count)\n",
    "\n",
    "    count +=1\n"
   ]
  },
  {
   "cell_type": "code",
   "execution_count": 51,
   "metadata": {},
   "outputs": [
    {
     "name": "stdout",
     "output_type": "stream",
     "text": [
      "apple\n",
      "banana\n",
      "cherry\n"
     ]
    }
   ],
   "source": [
    "fruits=[\"apple\",\"banana\",\"cherry\"]\n",
    "\n",
    "for fruit in fruits:\n",
    "\n",
    "    print(fruit)"
   ]
  },
  {
   "cell_type": "code",
   "execution_count": 53,
   "metadata": {},
   "outputs": [
    {
     "name": "stdout",
     "output_type": "stream",
     "text": [
      "2\n"
     ]
    }
   ],
   "source": [
    "#break\n",
    "\n",
    "for i in range(5):\n",
    "    if i == 2:\n",
    "        break\n",
    "print(i)"
   ]
  },
  {
   "cell_type": "code",
   "execution_count": 55,
   "metadata": {},
   "outputs": [
    {
     "name": "stdout",
     "output_type": "stream",
     "text": [
      "0\n",
      "1\n",
      "3\n",
      "4\n"
     ]
    }
   ],
   "source": [
    "#continue statement\n",
    "\n",
    "for i in range (5):\n",
    "\n",
    "    if i == 2:\n",
    "\n",
    "        continue \n",
    "\n",
    "    print(i)"
   ]
  },
  {
   "cell_type": "code",
   "execution_count": 58,
   "metadata": {},
   "outputs": [
    {
     "name": "stdout",
     "output_type": "stream",
     "text": [
      "0\n",
      "1\n",
      "3\n",
      "4\n"
     ]
    }
   ],
   "source": [
    "# pass satement \n",
    "\n",
    "for i in range(5):\n",
    "    if i == 2:\n",
    "        pass\n",
    "    else:\n",
    "        print(i)"
   ]
  },
  {
   "cell_type": "code",
   "execution_count": 59,
   "metadata": {},
   "outputs": [
    {
     "name": "stdout",
     "output_type": "stream",
     "text": [
      "Reversed string: p \n",
      "Reversed string: yp \n",
      "Reversed string: typ \n",
      "Reversed string: htyp \n",
      "Reversed string: ohtyp \n",
      "Reversed string: nohtyp \n",
      "Reversed string:  nohtyp \n",
      "Reversed string: i nohtyp \n",
      "Reversed string: si nohtyp \n",
      "Reversed string:  si nohtyp \n",
      "Reversed string: a si nohtyp \n",
      "Reversed string: wa si nohtyp \n",
      "Reversed string: ewa si nohtyp \n",
      "Reversed string: sewa si nohtyp \n",
      "Reversed string: osewa si nohtyp \n",
      "Reversed string: mosewa si nohtyp \n",
      "Reversed string: emosewa si nohtyp \n"
     ]
    }
   ],
   "source": [
    "# practice question \n",
    "\n",
    "''''\n",
    "Question 1 (for loop with strings):​\n",
    "\n",
    "Write a Python program that uses a for loop to reverse a given string and prints the reversed string.​\n",
    "\n",
    "Solution\n",
    "        '''\n",
    "\n",
    "\n",
    "\n",
    "string= \"python is awesome\"\n",
    "\n",
    "reversed_string=\" \"\n",
    "\n",
    "for i in string:\n",
    "\n",
    "    reversed_string= i + reversed_string\n",
    "\n",
    "\n",
    "    print(\"Reversed string:\",reversed_string)\n",
    "\n",
    "\n",
    "\n",
    "\n",
    "\n"
   ]
  },
  {
   "cell_type": "code",
   "execution_count": null,
   "metadata": {},
   "outputs": [],
   "source": []
  }
 ],
 "metadata": {
  "kernelspec": {
   "display_name": "Python 3",
   "language": "python",
   "name": "python3"
  },
  "language_info": {
   "codemirror_mode": {
    "name": "ipython",
    "version": 3
   },
   "file_extension": ".py",
   "mimetype": "text/x-python",
   "name": "python",
   "nbconvert_exporter": "python",
   "pygments_lexer": "ipython3",
   "version": "3.10.10"
  }
 },
 "nbformat": 4,
 "nbformat_minor": 2
}
