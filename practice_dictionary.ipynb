{
 "cells": [
  {
   "cell_type": "code",
   "execution_count": 30,
   "metadata": {},
   "outputs": [
    {
     "name": "stdout",
     "output_type": "stream",
     "text": [
      "1. Highest salary: 7000\n",
      "2. Average salary: 5700.0\n",
      "3. Employee above 5000 : ['bob', 'charlie', 'eve']\n",
      "4. Sorted employees names: ['alice', 'bob', 'charlie', 'david', 'eve']\n"
     ]
    }
   ],
   "source": [
    "'''\n",
    "Question 1: You are provided with a dictionary containing employee names and their corresponding monthly salaries. \n",
    "Find and display the highest salary in the company. Calculate and print the average salary of all employees. \n",
    "Identify and display the names of employees who earn above a certain threshold (e.g., $5000).\n",
    "Sort and display the employee names in alphabetical order.​\n",
    "\n",
    "'''\n",
    "\n",
    "#Solution:\n",
    "\n",
    "\n",
    "employee_info={\n",
    "\n",
    "    'alice': 5000,\n",
    "\n",
    "    'bob':5500,\n",
    "\n",
    "    'charlie': 6200,\n",
    "\n",
    "    'david': 4800,\n",
    "\n",
    "    'eve': 7000\n",
    "     \n",
    "}\n",
    "\n",
    "\n",
    "# find and display the highest salary in the company.\n",
    "\n",
    "highest_salary=max(employee_info.values())\n",
    "print(\"1. Highest salary:\", highest_salary)\n",
    "\n",
    "\n",
    "# calculate and print the average salary of all amployees.\n",
    "\n",
    "average_salary= sum(employee_info.values()) / len(employee_info)\n",
    "print(\"2. Average salary:\",average_salary)\n",
    "\n",
    "\n",
    "# identify and the display the name of emplloyees above certain thershold (e,g, 5000)\n",
    "\n",
    "thershold=5000\n",
    "\n",
    "above_thershold=[name for name , salary in employee_info.items() if salary>thershold]\n",
    "print(\"3. Employee above 5000 :\", above_thershold)\n",
    "\n",
    "\n",
    "# sort and display the employees name in alphabetical order.\n",
    "\n",
    "sorted_names=sorted(employee_info.keys())\n",
    "print(\"4. Sorted employees names:\", sorted_names)"
   ]
  },
  {
   "cell_type": "code",
   "execution_count": 31,
   "metadata": {},
   "outputs": [
    {
     "name": "stdout",
     "output_type": "stream",
     "text": [
      "1. Oldest employee: eve\n",
      "2. Average age: 2864.4\n",
      "3. Employees Younger than 30: ['alice_age', 'charlie_age', 'eve_age']\n",
      "4. Sorted Employee Names by Age: ['charlie_age', 'alice_age', 'eve_age', 'david_age', 'bob_age', 'david', 'alice', 'bob', 'charlie', 'eve']\n"
     ]
    }
   ],
   "source": [
    "'''\n",
    "Question 2: Extend the dictionary to include the age of each employee. \n",
    "Find and display the oldest employee in the company. Calculate and print the average age of all employees. \n",
    "Identify and display the names of employees who are younger than a certain age (e.g., 30). \n",
    "Sort and display the employee names based on age in ascending order.​\n",
    "'''\n",
    "\n",
    "#​Solution:\n",
    "\n",
    "# extend the dictionary to include age \n",
    "\n",
    "employee_info['alice_age'] = 28\n",
    "\n",
    "employee_info['bob_age'] = 32\n",
    "\n",
    "employee_info['charlie_age'] = 25\n",
    "\n",
    "employee_info['david_age'] = 30\n",
    "\n",
    "employee_info['eve_age'] = 29\n",
    "\n",
    "\n",
    "# find and display the oldest employee in company.\n",
    "oldest_employee=max(employee_info, key=lambda k: employee_info[k])\n",
    "print(\"1. Oldest employee:\", oldest_employee)\n",
    "\n",
    "\n",
    "# calculate the average age of all employee.\n",
    "average_age=sum(employee_info[name] for name in employee_info) / len(employee_info)\n",
    "print(\"2. Average age:\", average_age)\n",
    "\n",
    "\n",
    "# indentify and the display the name of employee younger then certain age (e,g, 30).\n",
    "young_employees = [name for name in employee_info if employee_info[name] < 30]\n",
    "print(\"3. Employees Younger than 30:\", young_employees)                     \n",
    "\n",
    "\n",
    "# sort and the display the employee name based on age in ascending order.\n",
    "sorted_names_by_age=  sorted(employee_info, key=lambda k: employee_info[k])\n",
    "print(\"4. Sorted Employee Names by Age:\", sorted_names_by_age)"
   ]
  },
  {
   "cell_type": "code",
   "execution_count": 33,
   "metadata": {},
   "outputs": [
    {
     "name": "stdout",
     "output_type": "stream",
     "text": [
      "1. Highest Rated Employees: ['Eve_rating']\n",
      "2. Average Performance Rating: 8.0\n",
      "3. Employees with Rating above 8: ['Alice_rating', 'Eve_rating']\n",
      "4. Sorted Employee Names by Rating: ['Eve_rating', 'Alice_rating', 'Charlie_rating', 'Bob_rating', 'David_rating']\n"
     ]
    }
   ],
   "source": [
    "'''\n",
    "Question 3: Add a new key to the dictionary to represent the performance rating of each employee (on a scale of 1 to 10). \n",
    "Identify and display the names of employees with the highest performance rating. \n",
    "Calculate and print the average performance rating of all employees. \n",
    "Identify and display the names of employees with a rating above a certain threshold (e.g., 8).\n",
    "Sort and display the employee names based on their performance rating in descending order.​\n",
    "'''\n",
    "#Solution:\n",
    "\n",
    "# add performance rating to the dictionary \n",
    "\n",
    "employee_info = {\n",
    "    'Alice_rating': 9,\n",
    "    'Bob_rating': 7,\n",
    "    'Charlie_rating': 8,\n",
    "    'David_rating': 6,\n",
    "    'Eve_rating': 10\n",
    "}\n",
    "\n",
    "\n",
    "#  Identify and display the names of employees with the highest performance rating.​\n",
    "highest_rated_employees = [name for name in employee_info if employee_info[name] == max(employee_info.values())]\n",
    "print(\"1. Highest Rated Employees:\", highest_rated_employees)\n",
    "\n",
    "\n",
    "# Calculate and print the average performance rating of all employees.​\n",
    "average_rating = sum(employee_info[name] for name in employee_info) / len(employee_info)\n",
    "print(\"2. Average Performance Rating:\", average_rating)\n",
    "\n",
    "\n",
    "#  Identify and display the names of employees with a rating above a certain threshold (e.g., 8)\n",
    "threshold_rating = 8\n",
    "above_threshold_rating = [name for name in employee_info if employee_info[name] > threshold_rating]\n",
    "print(\"3. Employees with Rating above 8:\", above_threshold_rating)\n",
    "\n",
    "\n",
    "# Sort and display the employee names based on their performance rating in descending order.​\n",
    "sorted_names_by_rating = sorted(employee_info, key=lambda k: employee_info[k], reverse=True)\n",
    "print(\"4. Sorted Employee Names by Rating:\", sorted_names_by_rating)\n",
    "\n"
   ]
  },
  {
   "cell_type": "code",
   "execution_count": 39,
   "metadata": {},
   "outputs": [
    {
     "name": "stdout",
     "output_type": "stream",
     "text": [
      "1. Bonus Amounts: {'Alice_rating': 0.9, 'Bob_rating': 0.7000000000000001, 'Charlie_rating': 0.8, 'David_rating': 0.6000000000000001, 'Eve_rating': 1.0}\n",
      "2. Employees Eligible for Bonus: ['Alice_rating', 'Bob_rating', 'Charlie_rating', 'David_rating', 'Eve_rating']\n",
      "3. Sorted Employee Names by Bonus Amount: ['Eve_rating', 'Alice_rating', 'Charlie_rating', 'Bob_rating', 'David_rating']\n"
     ]
    }
   ],
   "source": [
    "'''\n",
    "Question 4: Assume that each employee is eligible for a bonus based on their performance. \n",
    "Calculate and display the bonus amount for each employee (bonus = 10% of their salary).\n",
    "Identify and display the names of employees who are eligible for a bonus (performance rating above 5).\n",
    "Sort and display the employee names based on the bonus amount in descending order.​\n",
    "'''\n",
    "\n",
    "#Solution:\n",
    "\n",
    "\n",
    "# Calculate and display the bonus amount for each employee (bonus = 10% of their salary).\n",
    "bonus_info = {name: employee_info[name] * 0.1 for name in employee_info}\n",
    "print(\"1. Bonus Amounts:\", bonus_info)\n",
    "\n",
    "# Identify and display the names of employees who are eligible for a bonus (performance rating above 5).\n",
    "eligible_for_bonus = [name for name in employee_info if employee_info[name] > 5]\n",
    "print(\"2. Employees Eligible for Bonus:\", eligible_for_bonus)\n",
    "\n",
    "# Sort and display the employee names based on the bonus amount in descending order.\n",
    "sorted_names_by_bonus = sorted(bonus_info, key=lambda k: bonus_info[k], reverse=True)\n",
    "print(\"3. Sorted Employee Names by Bonus Amount:\", sorted_names_by_bonus)\n"
   ]
  },
  {
   "cell_type": "code",
   "execution_count": 40,
   "metadata": {},
   "outputs": [
    {
     "name": "stdout",
     "output_type": "stream",
     "text": [
      "\n",
      "Search Result for 'Inception': [{'title': 'Inception', 'director': 'Christopher Nolan', 'year': 2010, 'genre': 'Sci-Fi'}]\n",
      "Movies in Drama genre:\n",
      "The Shawshank Redemption (1994)\n"
     ]
    }
   ],
   "source": [
    "'''\n",
    "Question 5: Movie Database\n",
    "Create a movie database system using dictionaries where each movie is represented by a dictionary containing \n",
    "(title, director, year, and genre). Implement functions to add new movies, search for movies by title, and display movies by genre.\n",
    "'''\n",
    "# Solution\n",
    "\n",
    "movie_database = []\n",
    "\n",
    "def add_movie(title, director, year, genre):\n",
    "    movie = {\"title\": title, \"director\": director, \"year\": year, \"genre\": genre}\n",
    "    movie_database.append(movie)\n",
    "\n",
    "def search_movie_by_title(title):\n",
    "    return [movie for movie in movie_database if movie[\"title\"] == title]\n",
    "\n",
    "def display_movies_by_genre(genre):\n",
    "    print(f\"Movies in {genre} genre:\")\n",
    "    for movie in movie_database:\n",
    "        if movie[\"genre\"] == genre:\n",
    "            print(f\"{movie['title']} ({movie['year']})\")\n",
    "\n",
    "# Example Usage\n",
    "add_movie(\"Inception\", \"Christopher Nolan\", 2010, \"Sci-Fi\")\n",
    "add_movie(\"The Shawshank Redemption\", \"Frank Darabont\", 1994, \"Drama\")\n",
    "add_movie(\"The Godfather\", \"Francis Ford Coppola\", 1972, \"Crime\")\n",
    "\n",
    "title_to_search = \"Inception\"\n",
    "search_result = search_movie_by_title(title_to_search)\n",
    "print(f\"\\nSearch Result for '{title_to_search}': {search_result}\")\n",
    "\n",
    "genre_to_display = \"Drama\"\n",
    "display_movies_by_genre(genre_to_display)\n"
   ]
  },
  {
   "cell_type": "code",
   "execution_count": 43,
   "metadata": {},
   "outputs": [
    {
     "name": "stdout",
     "output_type": "stream",
     "text": [
      "\n",
      "Search Result for 'Bob':\n",
      "{'name': 'Bob', 'phone_number': '987-654-3210', 'email': 'bob@example.com'}\n",
      "All Contacts:\n",
      "Alice - Phone: 123-456-7890, Email: alice@example.com\n",
      "Bob - Phone: 987-654-3210, Email: bob@example.com\n",
      "Charlie - Phone: 555-123-4567, Email: charlie@example.com\n"
     ]
    }
   ],
   "source": [
    "'''\n",
    "Question 6: Contact Management System\n",
    "Develop a contact management system where each contact is represented by a dictionary containing (name, phone_number, email). \n",
    "Implement functions to add new contacts, search for contacts by name, and display all contacts.\n",
    "'''\n",
    "# solution\n",
    "\n",
    "contacts = []\n",
    "\n",
    "def add_contact(name, phone_number, email):\n",
    "    contact = {\"name\": name, \"phone_number\": phone_number, \"email\": email}\n",
    "    contacts.append(contact)\n",
    "\n",
    "def search_contact_by_name(name):\n",
    "    return [contact for contact in contacts if contact[\"name\"] == name]\n",
    "\n",
    "def display_all_contacts():\n",
    "    print(\"All Contacts:\")\n",
    "    for contact in contacts:\n",
    "        print(f\"{contact['name']} - Phone: {contact['phone_number']}, Email: {contact['email']}\")\n",
    "\n",
    "# Example Usage\n",
    "add_contact(\"Alice\", \"123-456-7890\", \"alice@example.com\")\n",
    "add_contact(\"Bob\", \"987-654-3210\", \"bob@example.com\")\n",
    "add_contact(\"Charlie\", \"555-123-4567\", \"charlie@example.com\")\n",
    "\n",
    "name_to_search = \"Bob\"\n",
    "search_result = search_contact_by_name(name_to_search)\n",
    "print(f\"\\nSearch Result for '{name_to_search}':\")\n",
    "for contact in search_result:\n",
    "    print(contact)\n",
    "\n",
    "display_all_contacts()\n",
    "\n"
   ]
  },
  {
   "cell_type": "code",
   "execution_count": 44,
   "metadata": {},
   "outputs": [
    {
     "name": "stdout",
     "output_type": "stream",
     "text": [
      "Products with Low Stock (less than 10):\n",
      "Smartphone - Quantity: 8\n"
     ]
    }
   ],
   "source": [
    "'''\n",
    "Question 7: Product Inventory System\n",
    "Implement a product inventory system where each product is represented by a dictionary containing (product_id, name, quantity, price).\n",
    "Implement functions to add new products, update quantities, and display products with low stock.\n",
    "'''\n",
    "# solution\n",
    "\n",
    "\n",
    "product_inventory = []\n",
    "\n",
    "def add_product(product_id, name, quantity, price):\n",
    "    product = {\"product_id\": product_id, \"name\": name, \"quantity\": quantity, \"price\": price}\n",
    "    product_inventory.append(product)\n",
    "\n",
    "def update_quantity(product_id, new_quantity):\n",
    "    for product in product_inventory:\n",
    "        if product[\"product_id\"] == product_id:\n",
    "            product[\"quantity\"] = new_quantity\n",
    "            break\n",
    "\n",
    "def display_low_stock_products(threshold):\n",
    "    print(f\"Products with Low Stock (less than {threshold}):\")\n",
    "    for product in product_inventory:\n",
    "        if product[\"quantity\"] < threshold:\n",
    "            print(f\"{product['name']} - Quantity: {product['quantity']}\")\n",
    "\n",
    "# Example Usage\n",
    "add_product(1, \"Laptop\", 10, 800)\n",
    "add_product(2, \"Smartphone\", 5, 400)\n",
    "add_product(3, \"Headphones\", 15, 50)\n",
    "\n",
    "update_quantity(2, 8)\n",
    "\n",
    "threshold_stock = 10\n",
    "display_low_stock_products(threshold_stock)\n",
    "\n"
   ]
  },
  {
   "cell_type": "code",
   "execution_count": 46,
   "metadata": {},
   "outputs": [
    {
     "name": "stdout",
     "output_type": "stream",
     "text": [
      "\n",
      "Book with ISBN 978-3-16-148410-0 checked out successfully!\n",
      "Available Books:\n",
      "To Kill a Mockingbird by Harper Lee (ISBN: 978-0-06-112008-4)\n",
      "1984 by George Orwell (ISBN: 978-0-452-28423-4)\n"
     ]
    }
   ],
   "source": [
    "'''\n",
    "Question 8: Library System\n",
    "Create a library system using dictionaries where each book is represented by a dictionary containing (title, author, ISBN, availability). \n",
    "Implement functions to add new books, check out a book, and display available books.\n",
    "'''\n",
    "# solution\n",
    "\n",
    "library_books = []\n",
    "\n",
    "def add_book(title, author, isbn, availability=True):\n",
    "    book = {\"title\": title, \"author\": author, \"isbn\": isbn, \"availability\": availability}\n",
    "    library_books.append(book)\n",
    "\n",
    "def check_out_book(isbn):\n",
    "    for book in library_books:\n",
    "        if book[\"isbn\"] == isbn and book[\"availability\"]:\n",
    "            book[\"availability\"] = False\n",
    "            return True\n",
    "    return False\n",
    "\n",
    "def display_available_books():\n",
    "    print(\"Available Books:\")\n",
    "    for book in library_books:\n",
    "        if book[\"availability\"]:\n",
    "            print(f\"{book['title']} by {book['author']} (ISBN: {book['isbn']})\")\n",
    "\n",
    "# Example Usage\n",
    "add_book(\"The Great Gatsby\", \"F. Scott Fitzgerald\", \"978-3-16-148410-0\")\n",
    "add_book(\"To Kill a Mockingbird\", \"Harper Lee\", \"978-0-06-112008-4\")\n",
    "add_book(\"1984\", \"George Orwell\", \"978-0-452-28423-4\")\n",
    "\n",
    "isbn_to_check_out = \"978-3-16-148410-0\"\n",
    "if check_out_book(isbn_to_check_out):\n",
    "    print(f\"\\nBook with ISBN {isbn_to_check_out} checked out successfully!\")\n",
    "\n",
    "display_available_books()\n"
   ]
  },
  {
   "cell_type": "code",
   "execution_count": null,
   "metadata": {},
   "outputs": [],
   "source": []
  }
 ],
 "metadata": {
  "kernelspec": {
   "display_name": "Python 3",
   "language": "python",
   "name": "python3"
  },
  "language_info": {
   "codemirror_mode": {
    "name": "ipython",
    "version": 3
   },
   "file_extension": ".py",
   "mimetype": "text/x-python",
   "name": "python",
   "nbconvert_exporter": "python",
   "pygments_lexer": "ipython3",
   "version": "3.10.10"
  }
 },
 "nbformat": 4,
 "nbformat_minor": 2
}
