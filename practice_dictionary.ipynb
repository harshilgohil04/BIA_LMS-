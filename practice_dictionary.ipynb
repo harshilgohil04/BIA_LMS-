{
 "cells": [
  {
   "cell_type": "code",
   "execution_count": 30,
   "metadata": {},
   "outputs": [
    {
     "name": "stdout",
     "output_type": "stream",
     "text": [
      "1. Highest salary: 7000\n",
      "2. Average salary: 5700.0\n",
      "3. Employee above 5000 : ['bob', 'charlie', 'eve']\n",
      "4. Sorted employees names: ['alice', 'bob', 'charlie', 'david', 'eve']\n"
     ]
    }
   ],
   "source": [
    "'''\n",
    "Question 1: You are provided with a dictionary containing employee names and their corresponding monthly salaries. \n",
    "Find and display the highest salary in the company. Calculate and print the average salary of all employees. \n",
    "Identify and display the names of employees who earn above a certain threshold (e.g., $5000).\n",
    "Sort and display the employee names in alphabetical order.​\n",
    "\n",
    "'''\n",
    "\n",
    "#Solution:\n",
    "\n",
    "\n",
    "employee_info={\n",
    "\n",
    "    'alice': 5000,\n",
    "\n",
    "    'bob':5500,\n",
    "\n",
    "    'charlie': 6200,\n",
    "\n",
    "    'david': 4800,\n",
    "\n",
    "    'eve': 7000\n",
    "     \n",
    "}\n",
    "\n",
    "\n",
    "# find and display the highest salary in the company.\n",
    "\n",
    "highest_salary=max(employee_info.values())\n",
    "print(\"1. Highest salary:\", highest_salary)\n",
    "\n",
    "\n",
    "# calculate and print the average salary of all amployees.\n",
    "\n",
    "average_salary= sum(employee_info.values()) / len(employee_info)\n",
    "print(\"2. Average salary:\",average_salary)\n",
    "\n",
    "\n",
    "# identify and the display the name of emplloyees above certain thershold (e,g, 5000)\n",
    "\n",
    "thershold=5000\n",
    "\n",
    "above_thershold=[name for name , salary in employee_info.items() if salary>thershold]\n",
    "print(\"3. Employee above 5000 :\", above_thershold)\n",
    "\n",
    "\n",
    "# sort and display the employees name in alphabetical order.\n",
    "\n",
    "sorted_names=sorted(employee_info.keys())\n",
    "print(\"4. Sorted employees names:\", sorted_names)"
   ]
  },
  {
   "cell_type": "code",
   "execution_count": 31,
   "metadata": {},
   "outputs": [
    {
     "name": "stdout",
     "output_type": "stream",
     "text": [
      "1. Oldest employee: eve\n",
      "2. Average age: 2864.4\n",
      "3. Employees Younger than 30: ['alice_age', 'charlie_age', 'eve_age']\n",
      "4. Sorted Employee Names by Age: ['charlie_age', 'alice_age', 'eve_age', 'david_age', 'bob_age', 'david', 'alice', 'bob', 'charlie', 'eve']\n"
     ]
    }
   ],
   "source": [
    "'''\n",
    "Question 2: Extend the dictionary to include the age of each employee. \n",
    "Find and display the oldest employee in the company. Calculate and print the average age of all employees. \n",
    "Identify and display the names of employees who are younger than a certain age (e.g., 30). \n",
    "Sort and display the employee names based on age in ascending order.​\n",
    "'''\n",
    "\n",
    "#​Solution:\n",
    "\n",
    "# extend the dictionary to include age \n",
    "\n",
    "employee_info['alice_age'] = 28\n",
    "\n",
    "employee_info['bob_age'] = 32\n",
    "\n",
    "employee_info['charlie_age'] = 25\n",
    "\n",
    "employee_info['david_age'] = 30\n",
    "\n",
    "employee_info['eve_age'] = 29\n",
    "\n",
    "\n",
    "# find and display the oldest employee in company.\n",
    "oldest_employee=max(employee_info, key=lambda k: employee_info[k])\n",
    "print(\"1. Oldest employee:\", oldest_employee)\n",
    "\n",
    "\n",
    "# calculate the average age of all employee.\n",
    "average_age=sum(employee_info[name] for name in employee_info) / len(employee_info)\n",
    "print(\"2. Average age:\", average_age)\n",
    "\n",
    "\n",
    "# indentify and the display the name of employee younger then certain age (e,g, 30).\n",
    "young_employees = [name for name in employee_info if employee_info[name] < 30]\n",
    "print(\"3. Employees Younger than 30:\", young_employees)                     \n",
    "\n",
    "\n",
    "# sort and the display the employee name based on age in ascending order.\n",
    "sorted_names_by_age=  sorted(employee_info, key=lambda k: employee_info[k])\n",
    "print(\"4. Sorted Employee Names by Age:\", sorted_names_by_age)"
   ]
  },
  {
   "cell_type": "code",
   "execution_count": 33,
   "metadata": {},
   "outputs": [
    {
     "name": "stdout",
     "output_type": "stream",
     "text": [
      "1. Highest Rated Employees: ['Eve_rating']\n",
      "2. Average Performance Rating: 8.0\n",
      "3. Employees with Rating above 8: ['Alice_rating', 'Eve_rating']\n",
      "4. Sorted Employee Names by Rating: ['Eve_rating', 'Alice_rating', 'Charlie_rating', 'Bob_rating', 'David_rating']\n"
     ]
    }
   ],
   "source": [
    "'''\n",
    "Question 3: Add a new key to the dictionary to represent the performance rating of each employee (on a scale of 1 to 10). \n",
    "Identify and display the names of employees with the highest performance rating. \n",
    "Calculate and print the average performance rating of all employees. \n",
    "Identify and display the names of employees with a rating above a certain threshold (e.g., 8).\n",
    "Sort and display the employee names based on their performance rating in descending order.​\n",
    "'''\n",
    "#Solution:\n",
    "\n",
    "# add performance rating to the dictionary \n",
    "\n",
    "employee_info = {\n",
    "    'Alice_rating': 9,\n",
    "    'Bob_rating': 7,\n",
    "    'Charlie_rating': 8,\n",
    "    'David_rating': 6,\n",
    "    'Eve_rating': 10\n",
    "}\n",
    "\n",
    "\n",
    "#  Identify and display the names of employees with the highest performance rating.​\n",
    "highest_rated_employees = [name for name in employee_info if employee_info[name] == max(employee_info.values())]\n",
    "print(\"1. Highest Rated Employees:\", highest_rated_employees)\n",
    "\n",
    "\n",
    "# Calculate and print the average performance rating of all employees.​\n",
    "average_rating = sum(employee_info[name] for name in employee_info) / len(employee_info)\n",
    "print(\"2. Average Performance Rating:\", average_rating)\n",
    "\n",
    "\n",
    "#  Identify and display the names of employees with a rating above a certain threshold (e.g., 8)\n",
    "threshold_rating = 8\n",
    "above_threshold_rating = [name for name in employee_info if employee_info[name] > threshold_rating]\n",
    "print(\"3. Employees with Rating above 8:\", above_threshold_rating)\n",
    "\n",
    "\n",
    "# Sort and display the employee names based on their performance rating in descending order.​\n",
    "sorted_names_by_rating = sorted(employee_info, key=lambda k: employee_info[k], reverse=True)\n",
    "print(\"4. Sorted Employee Names by Rating:\", sorted_names_by_rating)\n",
    "\n"
   ]
  },
  {
   "cell_type": "code",
   "execution_count": 39,
   "metadata": {},
   "outputs": [
    {
     "name": "stdout",
     "output_type": "stream",
     "text": [
      "1. Bonus Amounts: {'Alice_rating': 0.9, 'Bob_rating': 0.7000000000000001, 'Charlie_rating': 0.8, 'David_rating': 0.6000000000000001, 'Eve_rating': 1.0}\n",
      "2. Employees Eligible for Bonus: ['Alice_rating', 'Bob_rating', 'Charlie_rating', 'David_rating', 'Eve_rating']\n",
      "3. Sorted Employee Names by Bonus Amount: ['Eve_rating', 'Alice_rating', 'Charlie_rating', 'Bob_rating', 'David_rating']\n"
     ]
    }
   ],
   "source": [
    "'''\n",
    "Question 4: Assume that each employee is eligible for a bonus based on their performance. \n",
    "Calculate and display the bonus amount for each employee (bonus = 10% of their salary).\n",
    "Identify and display the names of employees who are eligible for a bonus (performance rating above 5).\n",
    "Sort and display the employee names based on the bonus amount in descending order.​\n",
    "'''\n",
    "\n",
    "#Solution:\n",
    "\n",
    "\n",
    "# Calculate and display the bonus amount for each employee (bonus = 10% of their salary).\n",
    "bonus_info = {name: employee_info[name] * 0.1 for name in employee_info}\n",
    "print(\"1. Bonus Amounts:\", bonus_info)\n",
    "\n",
    "# Identify and display the names of employees who are eligible for a bonus (performance rating above 5).\n",
    "eligible_for_bonus = [name for name in employee_info if employee_info[name] > 5]\n",
    "print(\"2. Employees Eligible for Bonus:\", eligible_for_bonus)\n",
    "\n",
    "# Sort and display the employee names based on the bonus amount in descending order.\n",
    "sorted_names_by_bonus = sorted(bonus_info, key=lambda k: bonus_info[k], reverse=True)\n",
    "print(\"3. Sorted Employee Names by Bonus Amount:\", sorted_names_by_bonus)\n"
   ]
  }
 ],
 "metadata": {
  "kernelspec": {
   "display_name": "Python 3",
   "language": "python",
   "name": "python3"
  },
  "language_info": {
   "codemirror_mode": {
    "name": "ipython",
    "version": 3
   },
   "file_extension": ".py",
   "mimetype": "text/x-python",
   "name": "python",
   "nbconvert_exporter": "python",
   "pygments_lexer": "ipython3",
   "version": "3.10.10"
  }
 },
 "nbformat": 4,
 "nbformat_minor": 2
}
